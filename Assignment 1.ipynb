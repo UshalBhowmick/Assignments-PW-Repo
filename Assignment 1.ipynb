{
 "cells": [
  {
   "cell_type": "code",
   "execution_count": 1,
   "id": "6d5769f1-0520-4591-bb3f-662fe56f4926",
   "metadata": {},
   "outputs": [],
   "source": [
    "# Question 1"
   ]
  },
  {
   "cell_type": "code",
   "execution_count": 2,
   "id": "46849c44-303b-435c-9fc8-35468c70a143",
   "metadata": {},
   "outputs": [],
   "source": [
    "a = 'ushal'"
   ]
  },
  {
   "cell_type": "code",
   "execution_count": 3,
   "id": "43e650a9-24f3-456d-a9ad-469aeaeb7d57",
   "metadata": {},
   "outputs": [],
   "source": [
    "b = [2,3,6,'red',22.56, True]"
   ]
  },
  {
   "cell_type": "code",
   "execution_count": 4,
   "id": "d282acb2-77fd-4d73-8e2c-91f6a7c3da83",
   "metadata": {},
   "outputs": [],
   "source": [
    "c = 55.65"
   ]
  },
  {
   "cell_type": "code",
   "execution_count": 8,
   "id": "6db78bfe-6e45-4519-8c36-4482dd2cf5a6",
   "metadata": {},
   "outputs": [],
   "source": [
    "d = ('red','blue','green')"
   ]
  },
  {
   "cell_type": "code",
   "execution_count": null,
   "id": "beff4522-cad2-45f3-92cc-27f675d85b42",
   "metadata": {},
   "outputs": [],
   "source": []
  },
  {
   "cell_type": "code",
   "execution_count": 10,
   "id": "c7957ca7-6f87-47d4-ab90-95e90e63528a",
   "metadata": {},
   "outputs": [],
   "source": [
    "# Question 2"
   ]
  },
  {
   "cell_type": "code",
   "execution_count": 11,
   "id": "548fc5c0-efd4-4c5a-8777-98c63bf15d80",
   "metadata": {},
   "outputs": [],
   "source": [
    "var1 = ''"
   ]
  },
  {
   "cell_type": "code",
   "execution_count": 12,
   "id": "391ce317-2349-4a6c-94aa-adc5a5cfb175",
   "metadata": {},
   "outputs": [
    {
     "data": {
      "text/plain": [
       "str"
      ]
     },
     "execution_count": 12,
     "metadata": {},
     "output_type": "execute_result"
    }
   ],
   "source": [
    "type(var1)"
   ]
  },
  {
   "cell_type": "code",
   "execution_count": 13,
   "id": "db261869-d8af-44c0-af95-9cd9c615750c",
   "metadata": {},
   "outputs": [],
   "source": [
    "var2 = '[ DS , ML , Python]'"
   ]
  },
  {
   "cell_type": "code",
   "execution_count": 14,
   "id": "6e1b4f08-bc3e-495d-967c-fbc24506aa8b",
   "metadata": {},
   "outputs": [
    {
     "data": {
      "text/plain": [
       "str"
      ]
     },
     "execution_count": 14,
     "metadata": {},
     "output_type": "execute_result"
    }
   ],
   "source": [
    "type(var2)"
   ]
  },
  {
   "cell_type": "code",
   "execution_count": 15,
   "id": "70e2fa59-c576-4234-ad1d-5b85c4aa92be",
   "metadata": {},
   "outputs": [],
   "source": [
    "var3 = [ 'DS' , 'ML' , 'Python' ]"
   ]
  },
  {
   "cell_type": "code",
   "execution_count": 16,
   "id": "d6e5bcad-274c-4b9d-9a13-cfba87ba57e2",
   "metadata": {},
   "outputs": [
    {
     "data": {
      "text/plain": [
       "list"
      ]
     },
     "execution_count": 16,
     "metadata": {},
     "output_type": "execute_result"
    }
   ],
   "source": [
    "type(var3)"
   ]
  },
  {
   "cell_type": "code",
   "execution_count": 17,
   "id": "3a5cde6b-5561-4533-8287-a6e4af2117e7",
   "metadata": {},
   "outputs": [],
   "source": [
    "var4 = 1"
   ]
  },
  {
   "cell_type": "code",
   "execution_count": 18,
   "id": "e3b8fefb-8d8e-474a-8364-6ba19228df17",
   "metadata": {},
   "outputs": [
    {
     "data": {
      "text/plain": [
       "int"
      ]
     },
     "execution_count": 18,
     "metadata": {},
     "output_type": "execute_result"
    }
   ],
   "source": [
    "type(var4)"
   ]
  },
  {
   "cell_type": "code",
   "execution_count": null,
   "id": "445fbbaf-56e5-493c-9cc2-3ecf696466b2",
   "metadata": {},
   "outputs": [],
   "source": []
  },
  {
   "cell_type": "code",
   "execution_count": 19,
   "id": "39b8a83e-0578-4adb-8f6f-b999096b5edb",
   "metadata": {},
   "outputs": [],
   "source": [
    "# Question 3"
   ]
  },
  {
   "cell_type": "code",
   "execution_count": 20,
   "id": "0ab71d36-c698-4998-b3ad-fbdc873f2ad9",
   "metadata": {},
   "outputs": [
    {
     "data": {
      "text/plain": [
       "2.0"
      ]
     },
     "execution_count": 20,
     "metadata": {},
     "output_type": "execute_result"
    }
   ],
   "source": [
    "6/3"
   ]
  },
  {
   "cell_type": "code",
   "execution_count": 21,
   "id": "af103953-3c0e-4604-95f5-7ef9ff88f89b",
   "metadata": {},
   "outputs": [],
   "source": [
    "# / is an arithmetic operator used for performing division"
   ]
  },
  {
   "cell_type": "code",
   "execution_count": 22,
   "id": "acc2f072-29dd-4015-ad68-5e8295cac875",
   "metadata": {},
   "outputs": [
    {
     "data": {
      "text/plain": [
       "1"
      ]
     },
     "execution_count": 22,
     "metadata": {},
     "output_type": "execute_result"
    }
   ],
   "source": [
    "5%2"
   ]
  },
  {
   "cell_type": "code",
   "execution_count": 23,
   "id": "503616e1-7c7f-4660-8908-be37c56eef9c",
   "metadata": {},
   "outputs": [],
   "source": [
    "# % is an arithmetic operator used for performing modulus operation thus giving the remainder of the division"
   ]
  },
  {
   "cell_type": "code",
   "execution_count": 24,
   "id": "0bb9c534-8ce1-4330-86ae-014404d53f90",
   "metadata": {},
   "outputs": [
    {
     "data": {
      "text/plain": [
       "2"
      ]
     },
     "execution_count": 24,
     "metadata": {},
     "output_type": "execute_result"
    }
   ],
   "source": [
    "5//2"
   ]
  },
  {
   "cell_type": "code",
   "execution_count": 25,
   "id": "4c24719b-e778-4800-910e-c9532be1e3ee",
   "metadata": {},
   "outputs": [],
   "source": [
    "# //  is an arithmetic operator used for perfroming floor division thus giving us the quotient"
   ]
  },
  {
   "cell_type": "code",
   "execution_count": 26,
   "id": "ed143290-576a-48b6-9357-a5266bdb5589",
   "metadata": {},
   "outputs": [
    {
     "data": {
      "text/plain": [
       "8"
      ]
     },
     "execution_count": 26,
     "metadata": {},
     "output_type": "execute_result"
    }
   ],
   "source": [
    "2 ** 3"
   ]
  },
  {
   "cell_type": "code",
   "execution_count": 27,
   "id": "c74aa718-0e19-4bef-9532-cb78a3c44bf6",
   "metadata": {},
   "outputs": [],
   "source": [
    "# ** is an arithmetic operator used for exponentiation as 2 to the power 3 is 8"
   ]
  },
  {
   "cell_type": "code",
   "execution_count": null,
   "id": "062ec30a-830c-47b5-b287-cc697c6073da",
   "metadata": {},
   "outputs": [],
   "source": []
  },
  {
   "cell_type": "code",
   "execution_count": 28,
   "id": "3d8e5a6a-1b3b-450f-a41b-d75da0c057dd",
   "metadata": {},
   "outputs": [],
   "source": [
    "# Question 4"
   ]
  },
  {
   "cell_type": "code",
   "execution_count": 30,
   "id": "8716faae-4e95-4593-b7bb-b91375299fd3",
   "metadata": {},
   "outputs": [],
   "source": [
    "i = [2,3,5,6,22.56,True,'ushal',2+3j,False,'u12']"
   ]
  },
  {
   "cell_type": "code",
   "execution_count": 31,
   "id": "920976bf-cbdb-47b4-a52d-9b518c601bdd",
   "metadata": {},
   "outputs": [
    {
     "name": "stdout",
     "output_type": "stream",
     "text": [
      "2\n",
      "<class 'int'>\n",
      "3\n",
      "<class 'int'>\n",
      "5\n",
      "<class 'int'>\n",
      "6\n",
      "<class 'int'>\n",
      "22.56\n",
      "<class 'float'>\n",
      "True\n",
      "<class 'bool'>\n",
      "ushal\n",
      "<class 'str'>\n",
      "(2+3j)\n",
      "<class 'complex'>\n",
      "False\n",
      "<class 'bool'>\n",
      "u12\n",
      "<class 'str'>\n"
     ]
    }
   ],
   "source": [
    "for n in i:\n",
    "    print(n)\n",
    "    print(type(n))"
   ]
  },
  {
   "cell_type": "code",
   "execution_count": null,
   "id": "a5603b39-638a-4b63-80f4-bb6c9b073f3e",
   "metadata": {},
   "outputs": [],
   "source": []
  },
  {
   "cell_type": "code",
   "execution_count": 32,
   "id": "77a78c42-cc6e-4a74-afe5-b301a1db5ac1",
   "metadata": {},
   "outputs": [],
   "source": [
    "# Question 5 "
   ]
  },
  {
   "cell_type": "code",
   "execution_count": 16,
   "id": "f4f659e7-59ea-42c8-a90a-8ee720a55f50",
   "metadata": {},
   "outputs": [
    {
     "name": "stdin",
     "output_type": "stream",
     "text": [
      "Enter the Number A:  8\n",
      "Enter the Number B:  2\n"
     ]
    },
    {
     "name": "stdout",
     "output_type": "stream",
     "text": [
      "A is purely divisible by B 3 times\n"
     ]
    }
   ],
   "source": [
    "A = int(input('Enter the Number A: '))\n",
    "B = int(input('Enter the Number B: '))\n",
    "count = 0\n",
    "while A % B == 0:\n",
    "    count += 1\n",
    "    A = A/B\n",
    "if count > 0: print(f'A is purely divisible by B {count} times')\n",
    "else : print(f\"A is not divisible by B\")\n",
    "    \n",
    "    \n",
    "\n",
    "    \n",
    "    \n"
   ]
  },
  {
   "cell_type": "code",
   "execution_count": 39,
   "id": "c731dfd9-5feb-4daa-a46d-70db29fddc51",
   "metadata": {},
   "outputs": [],
   "source": []
  },
  {
   "cell_type": "code",
   "execution_count": 17,
   "id": "5eea0194-df09-4a56-a87a-52a737e98745",
   "metadata": {},
   "outputs": [],
   "source": [
    "# Question 6"
   ]
  },
  {
   "cell_type": "code",
   "execution_count": 21,
   "id": "d8f16608-9db1-4863-b30e-9e0b8fb223aa",
   "metadata": {},
   "outputs": [
    {
     "name": "stdout",
     "output_type": "stream",
     "text": [
      "2 is not divisible by 3\n",
      "3 is divisible by 3\n",
      "5 is not divisible by 3\n",
      "6 is divisible by 3\n",
      "8 is not divisible by 3\n",
      "9 is divisible by 3\n",
      "10 is not divisible by 3\n",
      "12 is divisible by 3\n",
      "13 is not divisible by 3\n",
      "15 is divisible by 3\n",
      "18 is divisible by 3\n",
      "20 is not divisible by 3\n",
      "24 is divisible by 3\n",
      "25 is not divisible by 3\n",
      "26 is not divisible by 3\n",
      "27 is divisible by 3\n",
      "29 is not divisible by 3\n",
      "30 is divisible by 3\n",
      "32 is not divisible by 3\n",
      "35 is not divisible by 3\n",
      "36 is divisible by 3\n",
      "38 is not divisible by 3\n",
      "39 is divisible by 3\n",
      "41 is not divisible by 3\n",
      "42 is divisible by 3\n"
     ]
    }
   ],
   "source": [
    "m = [2,3,5,6,8,9,10,12,13,15,18,20,24,25,26,27,29,30,32,35,36,38,39,41,42]\n",
    "for i in m:\n",
    "    if i % 3 == 0 :\n",
    "        print(f'{i} is divisible by 3')\n",
    "    else : print(f'{i} is not divisible by 3')"
   ]
  },
  {
   "cell_type": "code",
   "execution_count": null,
   "id": "ca7b9ac0-e525-457b-9b14-2144071e6860",
   "metadata": {},
   "outputs": [],
   "source": []
  },
  {
   "cell_type": "code",
   "execution_count": 22,
   "id": "3954e5f7-f62e-4973-90f7-c4bfd49bd802",
   "metadata": {},
   "outputs": [],
   "source": [
    "# Question 7"
   ]
  },
  {
   "cell_type": "code",
   "execution_count": 23,
   "id": "657c23ea-f004-4814-8a21-25ede40e3155",
   "metadata": {},
   "outputs": [],
   "source": [
    "# (1)Mutable data type:"
   ]
  },
  {
   "cell_type": "code",
   "execution_count": 28,
   "id": "fc42987a-1854-4816-b5a2-166419472504",
   "metadata": {},
   "outputs": [],
   "source": [
    "n = [23 , 'Violet' , 'Blue' , True]"
   ]
  },
  {
   "cell_type": "code",
   "execution_count": 29,
   "id": "877b247d-f461-438d-92b9-6f5f55996e10",
   "metadata": {},
   "outputs": [
    {
     "data": {
      "text/plain": [
       "23"
      ]
     },
     "execution_count": 29,
     "metadata": {},
     "output_type": "execute_result"
    }
   ],
   "source": [
    "n[0]"
   ]
  },
  {
   "cell_type": "code",
   "execution_count": 30,
   "id": "d6a19846-0a27-4ed2-b238-f5e3d2ef70d4",
   "metadata": {},
   "outputs": [],
   "source": [
    "n[0] = 21"
   ]
  },
  {
   "cell_type": "code",
   "execution_count": 31,
   "id": "c94a5bc9-fa2d-44b7-9669-f5564c966500",
   "metadata": {},
   "outputs": [
    {
     "data": {
      "text/plain": [
       "21"
      ]
     },
     "execution_count": 31,
     "metadata": {},
     "output_type": "execute_result"
    }
   ],
   "source": [
    "n[0]"
   ]
  },
  {
   "cell_type": "code",
   "execution_count": 32,
   "id": "84203736-ff75-4cb1-a6a1-84e85d1f65cc",
   "metadata": {},
   "outputs": [
    {
     "data": {
      "text/plain": [
       "'Blue'"
      ]
     },
     "execution_count": 32,
     "metadata": {},
     "output_type": "execute_result"
    }
   ],
   "source": [
    "n[2]"
   ]
  },
  {
   "cell_type": "code",
   "execution_count": 33,
   "id": "e6d5f905-701b-4b86-a207-57580d9891c5",
   "metadata": {},
   "outputs": [],
   "source": [
    "n[2] = 'Black'"
   ]
  },
  {
   "cell_type": "code",
   "execution_count": 34,
   "id": "6319e650-7592-42bb-a150-eb6d991112d7",
   "metadata": {},
   "outputs": [
    {
     "data": {
      "text/plain": [
       "'Black'"
      ]
     },
     "execution_count": 34,
     "metadata": {},
     "output_type": "execute_result"
    }
   ],
   "source": [
    "n[2]"
   ]
  },
  {
   "cell_type": "code",
   "execution_count": 35,
   "id": "75e1b04e-c865-4999-a4ce-9b33631b3e59",
   "metadata": {},
   "outputs": [],
   "source": [
    "#In mutable data types, we can modify the already existing values of the data types (such as lists, dictionaries, etc.).\n",
    "#Or, we may add new values or remove the existing values from our data types.\n",
    "#Basically, we may perform any operation with our data without having to create a new copy of our data type. \n",
    "#Hence, the value assigned to any variable can be changed.\n",
    "# Like in the example, element 1 of the list n was modified and replaced with 21 and similarly with element 2."
   ]
  },
  {
   "cell_type": "code",
   "execution_count": 36,
   "id": "4cb2d72f-0bae-4ef0-9908-138185cd7091",
   "metadata": {},
   "outputs": [],
   "source": [
    "# (2) Immutable data type"
   ]
  },
  {
   "cell_type": "code",
   "execution_count": 37,
   "id": "600e121b-6d28-4f2a-990e-f5d8a8da22c7",
   "metadata": {},
   "outputs": [],
   "source": [
    "p = 'Ushal'"
   ]
  },
  {
   "cell_type": "code",
   "execution_count": 38,
   "id": "20af9866-8ce3-498f-9b0a-01f897ee570d",
   "metadata": {},
   "outputs": [
    {
     "data": {
      "text/plain": [
       "str"
      ]
     },
     "execution_count": 38,
     "metadata": {},
     "output_type": "execute_result"
    }
   ],
   "source": [
    "type(p)"
   ]
  },
  {
   "cell_type": "code",
   "execution_count": 39,
   "id": "eb882325-c1f9-4dc5-b469-ff337600435d",
   "metadata": {},
   "outputs": [
    {
     "data": {
      "text/plain": [
       "'s'"
      ]
     },
     "execution_count": 39,
     "metadata": {},
     "output_type": "execute_result"
    }
   ],
   "source": [
    "p[1]"
   ]
  },
  {
   "cell_type": "code",
   "execution_count": 41,
   "id": "5cb5cf9c-b888-45c5-96e0-eb2a1ff38b27",
   "metadata": {},
   "outputs": [
    {
     "ename": "TypeError",
     "evalue": "'str' object does not support item assignment",
     "output_type": "error",
     "traceback": [
      "\u001b[0;31m---------------------------------------------------------------------------\u001b[0m",
      "\u001b[0;31mTypeError\u001b[0m                                 Traceback (most recent call last)",
      "Cell \u001b[0;32mIn[41], line 1\u001b[0m\n\u001b[0;32m----> 1\u001b[0m \u001b[43mp\u001b[49m\u001b[43m[\u001b[49m\u001b[38;5;241;43m1\u001b[39;49m\u001b[43m]\u001b[49m \u001b[38;5;241m=\u001b[39m \u001b[38;5;124m'\u001b[39m\u001b[38;5;124mb\u001b[39m\u001b[38;5;124m'\u001b[39m\n",
      "\u001b[0;31mTypeError\u001b[0m: 'str' object does not support item assignment"
     ]
    }
   ],
   "source": [
    "p[1] = 'b'"
   ]
  },
  {
   "cell_type": "code",
   "execution_count": 42,
   "id": "6e39c573-c6d4-4f04-bdf8-0047abf47ec9",
   "metadata": {},
   "outputs": [],
   "source": [
    "#Immutable data types are those, whose values cannot be modified once they are created. \n",
    "#Examples of immutable data types are int, str, bool, float, tuple, etc.\n",
    "#Like in the above example, the variable p is assigned a value 'ushal' , which is a string and when we try to replace the 1 indexed element('s') of the string with 'b', we get an error saying: 'str' object does not support item assignment. "
   ]
  },
  {
   "cell_type": "code",
   "execution_count": null,
   "id": "eae0bd26-abae-4179-8edc-8d689d731e88",
   "metadata": {},
   "outputs": [],
   "source": []
  }
 ],
 "metadata": {
  "kernelspec": {
   "display_name": "Python 3 (ipykernel)",
   "language": "python",
   "name": "python3"
  },
  "language_info": {
   "codemirror_mode": {
    "name": "ipython",
    "version": 3
   },
   "file_extension": ".py",
   "mimetype": "text/x-python",
   "name": "python",
   "nbconvert_exporter": "python",
   "pygments_lexer": "ipython3",
   "version": "3.10.8"
  }
 },
 "nbformat": 4,
 "nbformat_minor": 5
}
